{
 "cells": [
  {
   "cell_type": "code",
   "execution_count": 22,
   "id": "10a0b154",
   "metadata": {},
   "outputs": [],
   "source": [
    "import pandas as pd\n",
    "import numpy as np\n",
    "import seaborn as sns\n",
    "import matplotlib.pyplot as plt\n",
    "from scipy import stats\n",
    "from sklearn.model_selection import train_test_split\n",
    "from sklearn.ensemble import RandomForestClassifier\n",
    "from sklearn.linear_model import LinearRegression\n",
    "from sklearn.metrics import accuracy_score, precision_score, recall_score, f1_score\n",
    "from sklearn.preprocessing import MinMaxScaler\n",
    "from sklearn.utils.multiclass import type_of_target"
   ]
  },
  {
   "cell_type": "code",
   "execution_count": 23,
   "id": "b1fe9e34",
   "metadata": {},
   "outputs": [
    {
     "name": "stdout",
     "output_type": "stream",
     "text": [
      "[1 0]\n"
     ]
    }
   ],
   "source": [
    "# Load dataset\n",
    "data = pd.read_csv('heart_disease_dataset.csv')\n",
    "\n",
    "# Check unique values in the 'Heart Disease' column\n",
    "print(data['Heart Disease'].unique())\n",
    "y=data['Heart Disease']\n",
    "data=data.drop(['Heart Disease'],axis=1)\n"
   ]
  },
  {
   "cell_type": "code",
   "execution_count": 24,
   "id": "f613baa9",
   "metadata": {},
   "outputs": [
    {
     "name": "stdout",
     "output_type": "stream",
     "text": [
      "<class 'pandas.core.frame.DataFrame'>\n",
      "RangeIndex: 1000 entries, 0 to 999\n",
      "Data columns (total 16 columns):\n",
      " #   Column                   Non-Null Count  Dtype \n",
      "---  ------                   --------------  ----- \n",
      " 0   Unnamed: 0               1000 non-null   int64 \n",
      " 1   Age                      1000 non-null   int64 \n",
      " 2   Gender                   1000 non-null   object\n",
      " 3   Cholesterol              1000 non-null   int64 \n",
      " 4   Blood Pressure           1000 non-null   int64 \n",
      " 5   Heart Rate               1000 non-null   int64 \n",
      " 6   Smoking                  1000 non-null   object\n",
      " 7   Alcohol Intake           660 non-null    object\n",
      " 8   Exercise Hours           1000 non-null   int64 \n",
      " 9   Family History           1000 non-null   object\n",
      " 10  Diabetes                 1000 non-null   object\n",
      " 11  Obesity                  1000 non-null   object\n",
      " 12  Stress Level             1000 non-null   int64 \n",
      " 13  Blood Sugar              1000 non-null   int64 \n",
      " 14  Exercise Induced Angina  1000 non-null   object\n",
      " 15  Chest Pain Type          1000 non-null   object\n",
      "dtypes: int64(8), object(8)\n",
      "memory usage: 125.1+ KB\n",
      "None\n"
     ]
    }
   ],
   "source": [
    "# inspect the data \n",
    "print(data.info())"
   ]
  },
  {
   "cell_type": "code",
   "execution_count": 25,
   "id": "9ba2c7b8",
   "metadata": {},
   "outputs": [
    {
     "name": "stdout",
     "output_type": "stream",
     "text": [
      "   Unnamed: 0  Age  Gender  Cholesterol  Blood Pressure  Heart Rate  Smoking  \\\n",
      "0           0   75  Female          228             119          66  Current   \n",
      "1           1   48    Male          204             165          62  Current   \n",
      "2           2   53    Male          234              91          67    Never   \n",
      "3           3   69  Female          192              90          72  Current   \n",
      "4           4   62  Female          172             163          93    Never   \n",
      "\n",
      "  Alcohol Intake  Exercise Hours Family History Diabetes Obesity  \\\n",
      "0          Heavy               1             No       No     Yes   \n",
      "1            NaN               5             No       No      No   \n",
      "2          Heavy               3            Yes       No     Yes   \n",
      "3            NaN               4             No      Yes      No   \n",
      "4            NaN               6             No      Yes      No   \n",
      "\n",
      "   Stress Level  Blood Sugar Exercise Induced Angina   Chest Pain Type  \n",
      "0             8          119                     Yes   Atypical Angina  \n",
      "1             9           70                     Yes    Typical Angina  \n",
      "2             5          196                     Yes   Atypical Angina  \n",
      "3             7          107                     Yes  Non-anginal Pain  \n",
      "4             2          183                     Yes      Asymptomatic  \n"
     ]
    }
   ],
   "source": [
    "print(data.head())"
   ]
  },
  {
   "cell_type": "code",
   "execution_count": 26,
   "id": "657f0ceb",
   "metadata": {},
   "outputs": [
    {
     "name": "stdout",
     "output_type": "stream",
     "text": [
      "Index(['Unnamed: 0', 'Age', 'Gender', 'Cholesterol', 'Blood Pressure',\n",
      "       'Heart Rate', 'Smoking', 'Alcohol Intake', 'Exercise Hours',\n",
      "       'Family History', 'Diabetes', 'Obesity', 'Stress Level', 'Blood Sugar',\n",
      "       'Exercise Induced Angina', 'Chest Pain Type'],\n",
      "      dtype='object')\n"
     ]
    }
   ],
   "source": [
    "print(data.columns)"
   ]
  },
  {
   "cell_type": "code",
   "execution_count": 27,
   "id": "c29d6b1f",
   "metadata": {},
   "outputs": [
    {
     "name": "stdout",
     "output_type": "stream",
     "text": [
      "        Unnamed: 0          Age  Cholesterol  Blood Pressure   Heart Rate  \\\n",
      "count  1000.000000  1000.000000  1000.000000       1000.0000  1000.000000   \n",
      "mean    499.500000    52.293000   249.939000        135.2810    79.204000   \n",
      "std     288.819436    15.727126    57.914673         26.3883    11.486092   \n",
      "min       0.000000    25.000000   150.000000         90.0000    60.000000   \n",
      "25%     249.750000    39.000000   200.000000        112.7500    70.000000   \n",
      "50%     499.500000    52.000000   248.000000        136.0000    79.000000   \n",
      "75%     749.250000    66.000000   299.000000        159.0000    89.000000   \n",
      "max     999.000000    79.000000   349.000000        179.0000    99.000000   \n",
      "\n",
      "       Exercise Hours  Stress Level  Blood Sugar  \n",
      "count     1000.000000   1000.000000  1000.000000  \n",
      "mean         4.529000      5.646000   134.941000  \n",
      "std          2.934241      2.831024    36.699624  \n",
      "min          0.000000      1.000000    70.000000  \n",
      "25%          2.000000      3.000000   104.000000  \n",
      "50%          4.500000      6.000000   135.000000  \n",
      "75%          7.000000      8.000000   167.000000  \n",
      "max          9.000000     10.000000   199.000000  \n"
     ]
    }
   ],
   "source": [
    "print(data.describe())"
   ]
  },
  {
   "cell_type": "code",
   "execution_count": 28,
   "id": "3918484f",
   "metadata": {},
   "outputs": [
    {
     "name": "stdout",
     "output_type": "stream",
     "text": [
      "Unnamed: 0                   0\n",
      "Age                          0\n",
      "Gender                       0\n",
      "Cholesterol                  0\n",
      "Blood Pressure               0\n",
      "Heart Rate                   0\n",
      "Smoking                      0\n",
      "Alcohol Intake             340\n",
      "Exercise Hours               0\n",
      "Family History               0\n",
      "Diabetes                     0\n",
      "Obesity                      0\n",
      "Stress Level                 0\n",
      "Blood Sugar                  0\n",
      "Exercise Induced Angina      0\n",
      "Chest Pain Type              0\n",
      "dtype: int64\n"
     ]
    }
   ],
   "source": [
    "# Identify the missing value \n",
    "print(data.isnull().sum())"
   ]
  },
  {
   "cell_type": "code",
   "execution_count": 29,
   "id": "46f4ae57",
   "metadata": {},
   "outputs": [],
   "source": [
    "#for missing value\n",
    "data.fillna(data.mean(numeric_only=True), inplace=True)"
   ]
  },
  {
   "cell_type": "code",
   "execution_count": 30,
   "id": "9ee25aba",
   "metadata": {},
   "outputs": [],
   "source": [
    "# remove duplicates\n",
    "data.drop_duplicates(inplace=True)"
   ]
  },
  {
   "cell_type": "code",
   "execution_count": 31,
   "id": "288e6764",
   "metadata": {},
   "outputs": [],
   "source": [
    "data.columns = data.columns.str.strip()"
   ]
  },
  {
   "cell_type": "code",
   "execution_count": 32,
   "id": "f657ba2f",
   "metadata": {},
   "outputs": [],
   "source": [
    "data['Alcohol Intake'] = data['Alcohol Intake'].fillna(\"None\")"
   ]
  },
  {
   "cell_type": "code",
   "execution_count": 33,
   "id": "5bf25639",
   "metadata": {},
   "outputs": [
    {
     "data": {
      "text/html": [
       "<div>\n",
       "<style scoped>\n",
       "    .dataframe tbody tr th:only-of-type {\n",
       "        vertical-align: middle;\n",
       "    }\n",
       "\n",
       "    .dataframe tbody tr th {\n",
       "        vertical-align: top;\n",
       "    }\n",
       "\n",
       "    .dataframe thead th {\n",
       "        text-align: right;\n",
       "    }\n",
       "</style>\n",
       "<table border=\"1\" class=\"dataframe\">\n",
       "  <thead>\n",
       "    <tr style=\"text-align: right;\">\n",
       "      <th></th>\n",
       "      <th>Unnamed: 0</th>\n",
       "      <th>Age</th>\n",
       "      <th>Gender</th>\n",
       "      <th>Cholesterol</th>\n",
       "      <th>Blood Pressure</th>\n",
       "      <th>Heart Rate</th>\n",
       "      <th>Smoking</th>\n",
       "      <th>Alcohol Intake</th>\n",
       "      <th>Exercise Hours</th>\n",
       "      <th>Family History</th>\n",
       "      <th>Diabetes</th>\n",
       "      <th>Obesity</th>\n",
       "      <th>Stress Level</th>\n",
       "      <th>Blood Sugar</th>\n",
       "      <th>Exercise Induced Angina</th>\n",
       "      <th>Chest Pain Type</th>\n",
       "    </tr>\n",
       "  </thead>\n",
       "  <tbody>\n",
       "    <tr>\n",
       "      <th>0</th>\n",
       "      <td>0</td>\n",
       "      <td>75</td>\n",
       "      <td>Female</td>\n",
       "      <td>228</td>\n",
       "      <td>119</td>\n",
       "      <td>66</td>\n",
       "      <td>Current</td>\n",
       "      <td>Heavy</td>\n",
       "      <td>1</td>\n",
       "      <td>No</td>\n",
       "      <td>No</td>\n",
       "      <td>Yes</td>\n",
       "      <td>8</td>\n",
       "      <td>119</td>\n",
       "      <td>Yes</td>\n",
       "      <td>Atypical Angina</td>\n",
       "    </tr>\n",
       "    <tr>\n",
       "      <th>1</th>\n",
       "      <td>1</td>\n",
       "      <td>48</td>\n",
       "      <td>Male</td>\n",
       "      <td>204</td>\n",
       "      <td>165</td>\n",
       "      <td>62</td>\n",
       "      <td>Current</td>\n",
       "      <td>None</td>\n",
       "      <td>5</td>\n",
       "      <td>No</td>\n",
       "      <td>No</td>\n",
       "      <td>No</td>\n",
       "      <td>9</td>\n",
       "      <td>70</td>\n",
       "      <td>Yes</td>\n",
       "      <td>Typical Angina</td>\n",
       "    </tr>\n",
       "    <tr>\n",
       "      <th>2</th>\n",
       "      <td>2</td>\n",
       "      <td>53</td>\n",
       "      <td>Male</td>\n",
       "      <td>234</td>\n",
       "      <td>91</td>\n",
       "      <td>67</td>\n",
       "      <td>Never</td>\n",
       "      <td>Heavy</td>\n",
       "      <td>3</td>\n",
       "      <td>Yes</td>\n",
       "      <td>No</td>\n",
       "      <td>Yes</td>\n",
       "      <td>5</td>\n",
       "      <td>196</td>\n",
       "      <td>Yes</td>\n",
       "      <td>Atypical Angina</td>\n",
       "    </tr>\n",
       "    <tr>\n",
       "      <th>3</th>\n",
       "      <td>3</td>\n",
       "      <td>69</td>\n",
       "      <td>Female</td>\n",
       "      <td>192</td>\n",
       "      <td>90</td>\n",
       "      <td>72</td>\n",
       "      <td>Current</td>\n",
       "      <td>None</td>\n",
       "      <td>4</td>\n",
       "      <td>No</td>\n",
       "      <td>Yes</td>\n",
       "      <td>No</td>\n",
       "      <td>7</td>\n",
       "      <td>107</td>\n",
       "      <td>Yes</td>\n",
       "      <td>Non-anginal Pain</td>\n",
       "    </tr>\n",
       "    <tr>\n",
       "      <th>4</th>\n",
       "      <td>4</td>\n",
       "      <td>62</td>\n",
       "      <td>Female</td>\n",
       "      <td>172</td>\n",
       "      <td>163</td>\n",
       "      <td>93</td>\n",
       "      <td>Never</td>\n",
       "      <td>None</td>\n",
       "      <td>6</td>\n",
       "      <td>No</td>\n",
       "      <td>Yes</td>\n",
       "      <td>No</td>\n",
       "      <td>2</td>\n",
       "      <td>183</td>\n",
       "      <td>Yes</td>\n",
       "      <td>Asymptomatic</td>\n",
       "    </tr>\n",
       "  </tbody>\n",
       "</table>\n",
       "</div>"
      ],
      "text/plain": [
       "   Unnamed: 0  Age  Gender  Cholesterol  Blood Pressure  Heart Rate  Smoking  \\\n",
       "0           0   75  Female          228             119          66  Current   \n",
       "1           1   48    Male          204             165          62  Current   \n",
       "2           2   53    Male          234              91          67    Never   \n",
       "3           3   69  Female          192              90          72  Current   \n",
       "4           4   62  Female          172             163          93    Never   \n",
       "\n",
       "  Alcohol Intake  Exercise Hours Family History Diabetes Obesity  \\\n",
       "0          Heavy               1             No       No     Yes   \n",
       "1           None               5             No       No      No   \n",
       "2          Heavy               3            Yes       No     Yes   \n",
       "3           None               4             No      Yes      No   \n",
       "4           None               6             No      Yes      No   \n",
       "\n",
       "   Stress Level  Blood Sugar Exercise Induced Angina   Chest Pain Type  \n",
       "0             8          119                     Yes   Atypical Angina  \n",
       "1             9           70                     Yes    Typical Angina  \n",
       "2             5          196                     Yes   Atypical Angina  \n",
       "3             7          107                     Yes  Non-anginal Pain  \n",
       "4             2          183                     Yes      Asymptomatic  "
      ]
     },
     "execution_count": 33,
     "metadata": {},
     "output_type": "execute_result"
    }
   ],
   "source": [
    "data.head()"
   ]
  },
  {
   "cell_type": "code",
   "execution_count": 34,
   "id": "f473eeb3",
   "metadata": {},
   "outputs": [
    {
     "name": "stdout",
     "output_type": "stream",
     "text": [
      "Columns in the dataset: ['Unnamed: 0', 'Age', 'Gender', 'Cholesterol', 'Blood Pressure', 'Heart Rate', 'Smoking', 'Alcohol Intake', 'Exercise Hours', 'Family History', 'Diabetes', 'Obesity', 'Stress Level', 'Blood Sugar', 'Exercise Induced Angina', 'Chest Pain Type']\n"
     ]
    }
   ],
   "source": [
    "# Print column names to verify\n",
    "print(\"Columns in the dataset:\", data.columns.tolist())"
   ]
  },
  {
   "cell_type": "code",
   "execution_count": 35,
   "id": "626df143",
   "metadata": {},
   "outputs": [
    {
     "name": "stdout",
     "output_type": "stream",
     "text": [
      "Categorical columns: ['Gender', 'Smoking', 'Alcohol Intake', 'Family History', 'Diabetes', 'Obesity', 'Exercise Induced Angina', 'Chest Pain Type']\n"
     ]
    }
   ],
   "source": [
    "# Identify categorical columns\n",
    "categorical_columns = data.select_dtypes(include=['object', 'category']).columns.tolist()\n",
    "print(\"Categorical columns:\", categorical_columns)\n",
    " "
   ]
  },
  {
   "cell_type": "code",
   "execution_count": 36,
   "id": "5ae98780",
   "metadata": {},
   "outputs": [],
   "source": [
    " # Create dummy variables\n",
    "data = pd.get_dummies(data, columns=categorical_columns, drop_first=True)\n",
    "# Normalize Data\n",
    "scaler = MinMaxScaler()\n",
    "data_scaled = scaler.fit_transform(data)\n",
    "data = pd.DataFrame(data_scaled, columns=data.columns)\n",
    " "
   ]
  },
  {
   "cell_type": "code",
   "execution_count": 37,
   "id": "22ff65ec",
   "metadata": {},
   "outputs": [
    {
     "name": "stdout",
     "output_type": "stream",
     "text": [
      "Numeric columns: ['Unnamed: 0', 'Age', 'Cholesterol', 'Blood Pressure', 'Heart Rate', 'Exercise Hours', 'Stress Level', 'Blood Sugar', 'Gender_Male', 'Smoking_Former', 'Smoking_Never', 'Alcohol Intake_Moderate', 'Alcohol Intake_None', 'Family History_Yes', 'Diabetes_Yes', 'Obesity_Yes', 'Exercise Induced Angina_Yes', 'Chest Pain Type_Atypical Angina', 'Chest Pain Type_Non-anginal Pain', 'Chest Pain Type_Typical Angina']\n"
     ]
    }
   ],
   "source": [
    "# Select numerical columns\n",
    "numeric_cols = data.select_dtypes(include=[np.number]).columns.tolist()\n",
    "print(\"Numeric columns:\", numeric_cols)"
   ]
  },
  {
   "cell_type": "code",
   "execution_count": 38,
   "id": "e2837197",
   "metadata": {},
   "outputs": [],
   "source": [
    "# Apply Z-score normalization\n",
    "data[numeric_cols] = data[numeric_cols].apply(lambda x: stats.zscore(x, nan_policy='omit'))\n",
    " "
   ]
  },
  {
   "cell_type": "code",
   "execution_count": 39,
   "id": "d193f482",
   "metadata": {},
   "outputs": [],
   "source": [
    "# Remove outliers\n",
    "data = data[(np.abs(data[numeric_cols]) < 3).all(axis=1)]"
   ]
  },
  {
   "cell_type": "code",
   "execution_count": 40,
   "id": "6e409586",
   "metadata": {},
   "outputs": [
    {
     "data": {
      "text/plain": [
       "{0, 1}"
      ]
     },
     "execution_count": 40,
     "metadata": {},
     "output_type": "execute_result"
    }
   ],
   "source": [
    "set(y)"
   ]
  },
  {
   "cell_type": "code",
   "execution_count": 41,
   "id": "857d1c3e",
   "metadata": {},
   "outputs": [
    {
     "name": "stdout",
     "output_type": "stream",
     "text": [
      "Data preparation complete.\n",
      "X_train shape: (800, 20)\n",
      "X_test shape: (200, 20)\n",
      "y_train shape: (800,)\n",
      "y_test shape: (200,)\n"
     ]
    }
   ],
   "source": [
    "\n",
    " # Split Data into Training and Testing Set\n",
    "X = data\n",
    "X_train, X_test, y_train, y_test = train_test_split(X, y, test_size=0.2, random_state=42)\n",
    " \n",
    "print(\"Data preparation complete.\")\n",
    "print(\"X_train shape:\", X_train.shape)\n",
    "print(\"X_test shape:\", X_test.shape)\n",
    "print(\"y_train shape:\", y_train.shape)\n",
    "print(\"y_test shape:\", y_test.shape)\n"
   ]
  },
  {
   "cell_type": "code",
   "execution_count": 42,
   "id": "54094e26",
   "metadata": {},
   "outputs": [
    {
     "data": {
      "text/html": [
       "<style>#sk-container-id-1 {color: black;background-color: white;}#sk-container-id-1 pre{padding: 0;}#sk-container-id-1 div.sk-toggleable {background-color: white;}#sk-container-id-1 label.sk-toggleable__label {cursor: pointer;display: block;width: 100%;margin-bottom: 0;padding: 0.3em;box-sizing: border-box;text-align: center;}#sk-container-id-1 label.sk-toggleable__label-arrow:before {content: \"▸\";float: left;margin-right: 0.25em;color: #696969;}#sk-container-id-1 label.sk-toggleable__label-arrow:hover:before {color: black;}#sk-container-id-1 div.sk-estimator:hover label.sk-toggleable__label-arrow:before {color: black;}#sk-container-id-1 div.sk-toggleable__content {max-height: 0;max-width: 0;overflow: hidden;text-align: left;background-color: #f0f8ff;}#sk-container-id-1 div.sk-toggleable__content pre {margin: 0.2em;color: black;border-radius: 0.25em;background-color: #f0f8ff;}#sk-container-id-1 input.sk-toggleable__control:checked~div.sk-toggleable__content {max-height: 200px;max-width: 100%;overflow: auto;}#sk-container-id-1 input.sk-toggleable__control:checked~label.sk-toggleable__label-arrow:before {content: \"▾\";}#sk-container-id-1 div.sk-estimator input.sk-toggleable__control:checked~label.sk-toggleable__label {background-color: #d4ebff;}#sk-container-id-1 div.sk-label input.sk-toggleable__control:checked~label.sk-toggleable__label {background-color: #d4ebff;}#sk-container-id-1 input.sk-hidden--visually {border: 0;clip: rect(1px 1px 1px 1px);clip: rect(1px, 1px, 1px, 1px);height: 1px;margin: -1px;overflow: hidden;padding: 0;position: absolute;width: 1px;}#sk-container-id-1 div.sk-estimator {font-family: monospace;background-color: #f0f8ff;border: 1px dotted black;border-radius: 0.25em;box-sizing: border-box;margin-bottom: 0.5em;}#sk-container-id-1 div.sk-estimator:hover {background-color: #d4ebff;}#sk-container-id-1 div.sk-parallel-item::after {content: \"\";width: 100%;border-bottom: 1px solid gray;flex-grow: 1;}#sk-container-id-1 div.sk-label:hover label.sk-toggleable__label {background-color: #d4ebff;}#sk-container-id-1 div.sk-serial::before {content: \"\";position: absolute;border-left: 1px solid gray;box-sizing: border-box;top: 0;bottom: 0;left: 50%;z-index: 0;}#sk-container-id-1 div.sk-serial {display: flex;flex-direction: column;align-items: center;background-color: white;padding-right: 0.2em;padding-left: 0.2em;position: relative;}#sk-container-id-1 div.sk-item {position: relative;z-index: 1;}#sk-container-id-1 div.sk-parallel {display: flex;align-items: stretch;justify-content: center;background-color: white;position: relative;}#sk-container-id-1 div.sk-item::before, #sk-container-id-1 div.sk-parallel-item::before {content: \"\";position: absolute;border-left: 1px solid gray;box-sizing: border-box;top: 0;bottom: 0;left: 50%;z-index: -1;}#sk-container-id-1 div.sk-parallel-item {display: flex;flex-direction: column;z-index: 1;position: relative;background-color: white;}#sk-container-id-1 div.sk-parallel-item:first-child::after {align-self: flex-end;width: 50%;}#sk-container-id-1 div.sk-parallel-item:last-child::after {align-self: flex-start;width: 50%;}#sk-container-id-1 div.sk-parallel-item:only-child::after {width: 0;}#sk-container-id-1 div.sk-dashed-wrapped {border: 1px dashed gray;margin: 0 0.4em 0.5em 0.4em;box-sizing: border-box;padding-bottom: 0.4em;background-color: white;}#sk-container-id-1 div.sk-label label {font-family: monospace;font-weight: bold;display: inline-block;line-height: 1.2em;}#sk-container-id-1 div.sk-label-container {text-align: center;}#sk-container-id-1 div.sk-container {/* jupyter's `normalize.less` sets `[hidden] { display: none; }` but bootstrap.min.css set `[hidden] { display: none !important; }` so we also need the `!important` here to be able to override the default hidden behavior on the sphinx rendered scikit-learn.org. See: https://github.com/scikit-learn/scikit-learn/issues/21755 */display: inline-block !important;position: relative;}#sk-container-id-1 div.sk-text-repr-fallback {display: none;}</style><div id=\"sk-container-id-1\" class=\"sk-top-container\"><div class=\"sk-text-repr-fallback\"><pre>RandomForestClassifier(random_state=42)</pre><b>In a Jupyter environment, please rerun this cell to show the HTML representation or trust the notebook. <br />On GitHub, the HTML representation is unable to render, please try loading this page with nbviewer.org.</b></div><div class=\"sk-container\" hidden><div class=\"sk-item\"><div class=\"sk-estimator sk-toggleable\"><input class=\"sk-toggleable__control sk-hidden--visually\" id=\"sk-estimator-id-1\" type=\"checkbox\" checked><label for=\"sk-estimator-id-1\" class=\"sk-toggleable__label sk-toggleable__label-arrow\">RandomForestClassifier</label><div class=\"sk-toggleable__content\"><pre>RandomForestClassifier(random_state=42)</pre></div></div></div></div></div>"
      ],
      "text/plain": [
       "RandomForestClassifier(random_state=42)"
      ]
     },
     "execution_count": 42,
     "metadata": {},
     "output_type": "execute_result"
    }
   ],
   "source": [
    "# Ensure y_train is a numpy array\n",
    "y_train = np.array(y_train)\n",
    "\n",
    "\n",
    "# Train the model\n",
    "model = RandomForestClassifier(random_state=42)\n",
    "model.fit(X_train, y_train)"
   ]
  },
  {
   "cell_type": "code",
   "execution_count": 43,
   "id": "a9097157",
   "metadata": {},
   "outputs": [
    {
     "name": "stdout",
     "output_type": "stream",
     "text": [
      "Classes: [0 1]\n",
      "Number of classes: 2\n"
     ]
    }
   ],
   "source": [
    "# Verify the model's attributes\n",
    "print(\"Classes:\", model.classes_)\n",
    "print(\"Number of classes:\", model.n_classes_)\n",
    "\n",
    "# Make predictions on the test set\n",
    "y_pred = model.predict(X_test)"
   ]
  },
  {
   "cell_type": "code",
   "execution_count": 44,
   "id": "668dd3e1",
   "metadata": {},
   "outputs": [
    {
     "name": "stdout",
     "output_type": "stream",
     "text": [
      "Type of y_test: binary\n",
      "Type of y_pred: binary\n",
      "Accuracy: 1.0\n",
      "Precision: 1.0\n",
      "Recall: 1.0\n",
      "F1 Score: 1.0\n"
     ]
    }
   ],
   "source": [
    "# Ensure y_test is a numpy array\n",
    "y_test = np.array(y_test)\n",
    "\n",
    "# Check the type of y_test and y_pred\n",
    "print(\"Type of y_test:\", type_of_target(y_test))\n",
    "print(\"Type of y_pred:\", type_of_target(y_pred))\n",
    "\n",
    "# If y_test is continuous, convert it to categorical\n",
    "if type_of_target(y_test) == 'continuous':\n",
    "    bins = np.linspace(min(y_test), max(y_test), 4)\n",
    "    y_test_binned = np.digitize(y_test, bins) - 1  # Subtract 1 to make bins start from 0\n",
    "    print(\"Type of y_test_binned:\", type_of_target(y_test))\n",
    "    print(\"Unique values in y_test_binned:\", np.unique(y_test))\n",
    "else:\n",
    "    y_test_binned = y_test\n",
    "\n",
    "# Calculate accuracy\n",
    "accuracy = accuracy_score(y_test_binned, y_pred)\n",
    "\n",
    "# Calculate precision\n",
    "precision = precision_score(y_test_binned, y_pred, average='weighted')\n",
    "\n",
    "# Calculate recall\n",
    "recall = recall_score(y_test_binned, y_pred, average='weighted')\n",
    "\n",
    "# Calculate F1 score\n",
    "f1 = f1_score(y_test_binned, y_pred, average='weighted')\n",
    "\n",
    "# Print the evaluation metrics\n",
    "print(f\"Accuracy: {accuracy}\")\n",
    "print(f\"Precision: {precision}\")\n",
    "print(f\"Recall: {recall}\")\n",
    "print(f\"F1 Score: {f1}\")"
   ]
  },
  {
   "cell_type": "code",
   "execution_count": 45,
   "id": "4a4bf12a",
   "metadata": {},
   "outputs": [
    {
     "name": "stdout",
     "output_type": "stream",
     "text": [
      "                             Feature  Importance\n",
      "1                                Age    0.523922\n",
      "2                        Cholesterol    0.240864\n",
      "3                     Blood Pressure    0.034932\n",
      "7                        Blood Sugar    0.034778\n",
      "0                         Unnamed: 0    0.033511\n",
      "4                         Heart Rate    0.029157\n",
      "6                       Stress Level    0.021099\n",
      "5                     Exercise Hours    0.019519\n",
      "9                     Smoking_Former    0.007317\n",
      "10                     Smoking_Never    0.006068\n",
      "11           Alcohol Intake_Moderate    0.006057\n",
      "15                       Obesity_Yes    0.005785\n",
      "8                        Gender_Male    0.005578\n",
      "18  Chest Pain Type_Non-anginal Pain    0.005143\n",
      "13                Family History_Yes    0.004974\n",
      "16       Exercise Induced Angina_Yes    0.004709\n",
      "14                      Diabetes_Yes    0.004477\n",
      "12               Alcohol Intake_None    0.004047\n",
      "17   Chest Pain Type_Atypical Angina    0.004046\n",
      "19    Chest Pain Type_Typical Angina    0.004017\n"
     ]
    }
   ],
   "source": [
    "# Get feature importances\n",
    "feature_importances = model.feature_importances_\n",
    "\n",
    "# Create a DataFrame for better visualization\n",
    "feature_importance_df = pd.DataFrame({\n",
    "    'Feature': X_train.columns,\n",
    "    'Importance': feature_importances\n",
    "}).sort_values(by='Importance', ascending=False)\n",
    "\n",
    "print(feature_importance_df)"
   ]
  },
  {
   "cell_type": "code",
   "execution_count": 46,
   "id": "44a6965c",
   "metadata": {},
   "outputs": [
    {
     "data": {
      "image/png": "[encoded data removed]",
      "text/plain": [
       "<Figure size 1000x600 with 1 Axes>"
      ]
     },
     "metadata": {},
     "output_type": "display_data"
    }
   ],
   "source": [
    "# Create the bar graph\n",
    "plt.figure(figsize=(10, 6))\n",
    "sns.barplot(x='Importance', y='Feature', data=feature_importance_df, palette='viridis')\n",
    "plt.xlabel('Importance')\n",
    "plt.ylabel('Feature')\n",
    "plt.title('Feature Importances')\n",
    "plt.show()"
   ]
  },
  {
   "cell_type": "code",
   "execution_count": null,
   "id": "aec79845",
   "metadata": {},
   "outputs": [],
   "source": [
    "#In summary, Age and Cholesterol are the most influential features in our model, \n",
    "#while features like Chest Pain Type and Exercise Induced Angina have very little impact on the predictions."
   ]
  },
  {
   "cell_type": "code",
   "execution_count": 48,
   "id": "3c37ed7e",
   "metadata": {},
   "outputs": [
    {
     "data": {
      "text/plain": [
       "{0, 1}"
      ]
     },
     "execution_count": 48,
     "metadata": {},
     "output_type": "execute_result"
    }
   ],
   "source": [
    "set(y_train)"
   ]
  },
  {
   "cell_type": "code",
   "execution_count": 49,
   "id": "34699db4",
   "metadata": {},
   "outputs": [
    {
     "name": "stdout",
     "output_type": "stream",
     "text": [
      "Predictions [1 1 0 0 0 0 0 0 1 1]\n",
      "Classification Report:\n",
      "               precision    recall  f1-score   support\n",
      "\n",
      "           0       0.75      0.80      0.77       118\n",
      "           1       0.68      0.62      0.65        82\n",
      "\n",
      "    accuracy                           0.73       200\n",
      "   macro avg       0.72      0.71      0.71       200\n",
      "weighted avg       0.72      0.72      0.72       200\n",
      "\n"
     ]
    }
   ],
   "source": [
    "# Train the linear regression model\n",
    "from sklearn.neighbors import KNeighborsClassifier \n",
    "from sklearn.metrics import confusion_matrix, classification_report\n",
    "\n",
    "model =KNeighborsClassifier(n_neighbors = 3) \n",
    "model.fit(X_train, y_train)\n",
    "\n",
    "\n",
    "\n",
    "# Predict using the model\n",
    "y_pred = model.predict(X_test)\n",
    "\n",
    " # Print first 10 predictions\n",
    "print(\"Predictions\",y_pred[:10])\n",
    "\n",
    "# Create the confusion matrix\n",
    "report = classification_report(y_test, y_pred, output_dict=True)\n",
    "\n",
    "# Convert the classification report to a DataFrame for better visualization\n",
    "report_df = pd.DataFrame(report).transpose()\n",
    "\n",
    "# Print the classification report\n",
    "print(\"Classification Report:\\n\", classification_report(y_test, y_pred))"
   ]
  },
  {
   "cell_type": "code",
   "execution_count": null,
   "id": "8612d9b1",
   "metadata": {},
   "outputs": [],
   "source": [
    "#The model performs better in predicting class 0 than class 1.\n",
    "#Overall accuracy is 73%, indicating that the model correctly predicts the class for 73% of the instances.\n",
    "# The precision, recall, and F1-scores are slightly higher for class 0 compared to class 1, \n",
    "#suggesting the model is more reliable in identifying class 0."
   ]
  },
  {
   "cell_type": "code",
   "execution_count": 50,
   "id": "2356c8ac",
   "metadata": {},
   "outputs": [
    {
     "data": {
      "image/png": "[encoded data removed]",
      "text/plain": [
       "<Figure size 1000x600 with 1 Axes>"
      ]
     },
     "metadata": {},
     "output_type": "display_data"
    }
   ],
   "source": [
    "# Plotting the actual vs predicted values\n",
    "plt.figure(figsize=(10, 6))\n",
    "plt.scatter(range(50), y_test[:50], color='blue', label='Actual Values')\n",
    "plt.scatter(range(50), y_pred[:50], color='red',marker='*', label='Predicted Values')\n",
    "plt.title('Actual vs Predicted Values')\n",
    "plt.xlabel('Index')\n",
    "plt.ylabel('Target Value')\n",
    "plt.legend()\n",
    "plt.show()\n"
   ]
  },
  {
   "cell_type": "code",
   "execution_count": null,
   "id": "d0a46058",
   "metadata": {},
   "outputs": [],
   "source": [
    "#The plot shows that the model’s predictions are not consistently accurate. \n",
    "#There are discrepancies between the actual and predicted values, \n",
    "#suggesting that the model could be improved for better accuracy"
   ]
  },
  {
   "cell_type": "code",
   "execution_count": 52,
   "id": "125c01f0",
   "metadata": {},
   "outputs": [],
   "source": [
    "import pickle\n",
    "with open('model.pkl', 'wb') as mo:\n",
    "    pickle.dump(model,mo)"
   ]
  },
  {
   "cell_type": "code",
   "execution_count": 53,
   "id": "453cc23d",
   "metadata": {},
   "outputs": [
    {
     "data": {
      "image/png": "[encoded data removed]",
      "text/plain": [
       "<Figure size 1000x600 with 2 Axes>"
      ]
     },
     "metadata": {},
     "output_type": "display_data"
    }
   ],
   "source": [
    "# Plot the classification report\n",
    "plt.figure(figsize=(10, 6))\n",
    "sns.heatmap(report_df.iloc[:-1, :-1], annot=True, cmap='Blues')\n",
    "plt.title('Classification Report')\n",
    "plt.show()"
   ]
  },
  {
   "cell_type": "code",
   "execution_count": null,
   "id": "16577823",
   "metadata": {},
   "outputs": [],
   "source": [
    "#Darker blue shades indicate higher scores, showing where the model performs well.\n",
    "#This helps quickly identify strengths and areas for improvement in the model’s predictions."
   ]
  }
 ],
 "metadata": {
  "kernelspec": {
   "display_name": "Python 3 (ipykernel)",
   "language": "python",
   "name": "python3"
  },
  "language_info": {
   "codemirror_mode": {
    "name": "ipython",
    "version": 3
   },
   "file_extension": ".py",
   "mimetype": "text/x-python",
   "name": "python",
   "nbconvert_exporter": "python",
   "pygments_lexer": "ipython3",
   "version": "3.11.7"
  }
 },
 "nbformat": 4,
 "nbformat_minor": 5
}
